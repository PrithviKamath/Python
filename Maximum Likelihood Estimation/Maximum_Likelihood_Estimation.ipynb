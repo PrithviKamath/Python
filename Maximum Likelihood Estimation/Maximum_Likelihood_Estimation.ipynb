{
 "cells": [
  {
   "cell_type": "markdown",
   "metadata": {},
   "source": [
    "\n",
    "# Importing packages and dataset"
   ]
  },
  {
   "cell_type": "code",
   "execution_count": 1,
   "metadata": {},
   "outputs": [],
   "source": [
    "#Importing required packages\n",
    "import numpy as np\n",
    "import pandas as pd\n",
    "import scipy.stats as stats\n",
    "import seaborn as sns\n",
    "import matplotlib.pyplot as plt\n",
    "%matplotlib inline"
   ]
  },
  {
   "cell_type": "code",
   "execution_count": 2,
   "metadata": {},
   "outputs": [],
   "source": [
    "#Importing dataset\n",
    "df_train=pd.read_csv(\"Titanic_train.csv\")"
   ]
  },
  {
   "cell_type": "markdown",
   "metadata": {},
   "source": [
    "# Data Cleaning and Data Wrangling "
   ]
  },
  {
   "cell_type": "code",
   "execution_count": 3,
   "metadata": {},
   "outputs": [
    {
     "data": {
      "text/plain": [
       "PassengerId      0\n",
       "Survived         0\n",
       "Pclass           0\n",
       "Name             0\n",
       "Sex              0\n",
       "Age            177\n",
       "SibSp            0\n",
       "Parch            0\n",
       "Ticket           0\n",
       "Fare             0\n",
       "Cabin          687\n",
       "Embarked         2\n",
       "dtype: int64"
      ]
     },
     "execution_count": 3,
     "metadata": {},
     "output_type": "execute_result"
    }
   ],
   "source": [
    "#Check for null values\n",
    "df_train.isnull().sum()"
   ]
  },
  {
   "cell_type": "code",
   "execution_count": 4,
   "metadata": {},
   "outputs": [
    {
     "data": {
      "text/plain": [
       "S    644\n",
       "C    168\n",
       "Q     77\n",
       "Name: Embarked, dtype: int64"
      ]
     },
     "execution_count": 4,
     "metadata": {},
     "output_type": "execute_result"
    }
   ],
   "source": [
    "#Calculate frequency for Embarked variable\n",
    "df_train[\"Embarked\"].value_counts()"
   ]
  },
  {
   "cell_type": "code",
   "execution_count": 5,
   "metadata": {
    "scrolled": true
   },
   "outputs": [],
   "source": [
    "#Replace null value by the highest occuring value\n",
    "df_train['Embarked'].fillna(\"S\", inplace=True)"
   ]
  },
  {
   "cell_type": "code",
   "execution_count": 6,
   "metadata": {
    "scrolled": true
   },
   "outputs": [
    {
     "data": {
      "text/plain": [
       "S    646\n",
       "C    168\n",
       "Q     77\n",
       "Name: Embarked, dtype: int64"
      ]
     },
     "execution_count": 6,
     "metadata": {},
     "output_type": "execute_result"
    }
   ],
   "source": [
    "#New count\n",
    "df_train[\"Embarked\"].value_counts()"
   ]
  },
  {
   "cell_type": "markdown",
   "metadata": {},
   "source": [
    "# Data Visualization"
   ]
  },
  {
   "cell_type": "markdown",
   "metadata": {},
   "source": [
    "From the dataset we understand that Sex, Age and Pclass factors played an important role in determining the survival rate. Hence we mainly concentrate on these factor."
   ]
  },
  {
   "cell_type": "code",
   "execution_count": 7,
   "metadata": {},
   "outputs": [
    {
     "name": "stdout",
     "output_type": "stream",
     "text": [
      "Minimum value of Age:  0.42\n",
      "Maximum value of Age:  80.0\n"
     ]
    }
   ],
   "source": [
    "print(\"Minimum value of Age: \",df_train[\"Age\"].min())\n",
    "print(\"Maximum value of Age: \",df_train[\"Age\"].max())"
   ]
  },
  {
   "cell_type": "markdown",
   "metadata": {},
   "source": [
    "Hence we categorize the people into 8 bins from 0-10,11-20,...and so on till 71-80"
   ]
  },
  {
   "cell_type": "code",
   "execution_count": 8,
   "metadata": {},
   "outputs": [],
   "source": [
    "df_train[\"Age_bin\"]=np.nan\n",
    "for x in df_train:\n",
    "    for i in range(8,0,-1):\n",
    "        df_train.loc[ df_train[\"Age\"] <= i*10, \"Age_bin\"] = i"
   ]
  },
  {
   "cell_type": "markdown",
   "metadata": {},
   "source": [
    "Creating bins for male and female sailors"
   ]
  },
  {
   "cell_type": "code",
   "execution_count": 9,
   "metadata": {},
   "outputs": [],
   "source": [
    "df_train.loc[df_train[\"Sex\"] ==\"male\", \"Sex_Bin\"] = 1\n",
    "df_train.loc[df_train[\"Sex\"] ==\"female\", \"Sex_Bin\"] = 0"
   ]
  },
  {
   "cell_type": "code",
   "execution_count": 10,
   "metadata": {
    "scrolled": true
   },
   "outputs": [
    {
     "data": {
      "image/png": "[encoded data removed]",
      "text/plain": [
       "<Figure size 432x288 with 1 Axes>"
      ]
     },
     "metadata": {},
     "output_type": "display_data"
    }
   ],
   "source": [
    "#Overall survival frequency\n",
    "sns.countplot(x='Survived', data=df_train);"
   ]
  },
  {
   "cell_type": "code",
   "execution_count": 11,
   "metadata": {},
   "outputs": [
    {
     "data": {
      "image/png": "[encoded data removed]",
      "text/plain": [
       "<Figure size 576x288 with 2 Axes>"
      ]
     },
     "metadata": {},
     "output_type": "display_data"
    }
   ],
   "source": [
    "#Survival frequency based on Sex\n",
    "sns.factorplot(x='Sex', col='Survived', kind='count', data=df_train);"
   ]
  },
  {
   "cell_type": "code",
   "execution_count": 12,
   "metadata": {},
   "outputs": [
    {
     "data": {
      "text/html": [
       "<style  type=\"text/css\" >\n",
       "    #T_08277e50_7985_11e8_83a7_c4da1971a91brow0_col0 {\n",
       "            background-color:  #ffaa00;\n",
       "        }    #T_08277e50_7985_11e8_83a7_c4da1971a91brow0_col1 {\n",
       "            background-color:  #ffff00;\n",
       "        }    #T_08277e50_7985_11e8_83a7_c4da1971a91brow0_col2 {\n",
       "            background-color:  #ffea00;\n",
       "        }    #T_08277e50_7985_11e8_83a7_c4da1971a91brow0_col3 {\n",
       "            background-color:  #ffff00;\n",
       "        }    #T_08277e50_7985_11e8_83a7_c4da1971a91brow0_col4 {\n",
       "            background-color:  #ffff00;\n",
       "        }    #T_08277e50_7985_11e8_83a7_c4da1971a91brow0_col5 {\n",
       "            background-color:  #ffee00;\n",
       "        }    #T_08277e50_7985_11e8_83a7_c4da1971a91brow0_col6 {\n",
       "            background-color:  #ffff00;\n",
       "        }    #T_08277e50_7985_11e8_83a7_c4da1971a91brow0_col7 {\n",
       "            background-color:  #fff300;\n",
       "        }    #T_08277e50_7985_11e8_83a7_c4da1971a91brow0_col8 {\n",
       "            background-color:  #fffb00;\n",
       "        }    #T_08277e50_7985_11e8_83a7_c4da1971a91brow0_col9 {\n",
       "            background-color:  #ffff00;\n",
       "        }    #T_08277e50_7985_11e8_83a7_c4da1971a91brow0_col10 {\n",
       "            background-color:  #ffff00;\n",
       "        }    #T_08277e50_7985_11e8_83a7_c4da1971a91brow0_col11 {\n",
       "            background-color:  #fff700;\n",
       "        }    #T_08277e50_7985_11e8_83a7_c4da1971a91brow0_col12 {\n",
       "            background-color:  #ffff00;\n",
       "        }    #T_08277e50_7985_11e8_83a7_c4da1971a91brow0_col13 {\n",
       "            background-color:  #ffff00;\n",
       "        }    #T_08277e50_7985_11e8_83a7_c4da1971a91brow0_col14 {\n",
       "            background-color:  #ffbb00;\n",
       "        }    #T_08277e50_7985_11e8_83a7_c4da1971a91brow0_col15 {\n",
       "            background-color:  #ffff00;\n",
       "        }    #T_08277e50_7985_11e8_83a7_c4da1971a91brow0_col16 {\n",
       "            background-color:  #ffea00;\n",
       "        }    #T_08277e50_7985_11e8_83a7_c4da1971a91brow0_col17 {\n",
       "            background-color:  #ffff00;\n",
       "        }    #T_08277e50_7985_11e8_83a7_c4da1971a91brow0_col18 {\n",
       "            background-color:  #ffff00;\n",
       "        }    #T_08277e50_7985_11e8_83a7_c4da1971a91brow0_col19 {\n",
       "            background-color:  #ffff00;\n",
       "        }    #T_08277e50_7985_11e8_83a7_c4da1971a91brow0_col20 {\n",
       "            background-color:  #ffff00;\n",
       "        }    #T_08277e50_7985_11e8_83a7_c4da1971a91brow0_col21 {\n",
       "            background-color:  #ffff00;\n",
       "        }    #T_08277e50_7985_11e8_83a7_c4da1971a91brow0_col22 {\n",
       "            background-color:  #ffff00;\n",
       "        }    #T_08277e50_7985_11e8_83a7_c4da1971a91brow0_col23 {\n",
       "            background-color:  #ffff00;\n",
       "        }    #T_08277e50_7985_11e8_83a7_c4da1971a91brow1_col0 {\n",
       "            background-color:  #ffff00;\n",
       "        }    #T_08277e50_7985_11e8_83a7_c4da1971a91brow1_col1 {\n",
       "            background-color:  #ff8700;\n",
       "        }    #T_08277e50_7985_11e8_83a7_c4da1971a91brow1_col2 {\n",
       "            background-color:  #ffea00;\n",
       "        }    #T_08277e50_7985_11e8_83a7_c4da1971a91brow1_col3 {\n",
       "            background-color:  #ff4700;\n",
       "        }    #T_08277e50_7985_11e8_83a7_c4da1971a91brow1_col4 {\n",
       "            background-color:  #ff8e00;\n",
       "        }    #T_08277e50_7985_11e8_83a7_c4da1971a91brow1_col5 {\n",
       "            background-color:  #ffea00;\n",
       "        }    #T_08277e50_7985_11e8_83a7_c4da1971a91brow1_col6 {\n",
       "            background-color:  #ff8300;\n",
       "        }    #T_08277e50_7985_11e8_83a7_c4da1971a91brow1_col7 {\n",
       "            background-color:  #ff9700;\n",
       "        }    #T_08277e50_7985_11e8_83a7_c4da1971a91brow1_col8 {\n",
       "            background-color:  #fffb00;\n",
       "        }    #T_08277e50_7985_11e8_83a7_c4da1971a91brow1_col9 {\n",
       "            background-color:  #ff8200;\n",
       "        }    #T_08277e50_7985_11e8_83a7_c4da1971a91brow1_col10 {\n",
       "            background-color:  #ffa400;\n",
       "        }    #T_08277e50_7985_11e8_83a7_c4da1971a91brow1_col11 {\n",
       "            background-color:  #ffff00;\n",
       "        }    #T_08277e50_7985_11e8_83a7_c4da1971a91brow1_col12 {\n",
       "            background-color:  #ffb100;\n",
       "        }    #T_08277e50_7985_11e8_83a7_c4da1971a91brow1_col13 {\n",
       "            background-color:  #ff8e00;\n",
       "        }    #T_08277e50_7985_11e8_83a7_c4da1971a91brow1_col14 {\n",
       "            background-color:  #ffff00;\n",
       "        }    #T_08277e50_7985_11e8_83a7_c4da1971a91brow1_col15 {\n",
       "            background-color:  #ff8f00;\n",
       "        }    #T_08277e50_7985_11e8_83a7_c4da1971a91brow1_col16 {\n",
       "            background-color:  #ffd500;\n",
       "        }    #T_08277e50_7985_11e8_83a7_c4da1971a91brow1_col17 {\n",
       "            background-color:  #ffff00;\n",
       "        }    #T_08277e50_7985_11e8_83a7_c4da1971a91brow1_col18 {\n",
       "            background-color:  #ffd100;\n",
       "        }    #T_08277e50_7985_11e8_83a7_c4da1971a91brow1_col19 {\n",
       "            background-color:  #ffff00;\n",
       "        }    #T_08277e50_7985_11e8_83a7_c4da1971a91brow1_col20 {\n",
       "            background-color:  #ffaa00;\n",
       "        }    #T_08277e50_7985_11e8_83a7_c4da1971a91brow1_col21 {\n",
       "            background-color:  #ffff00;\n",
       "        }    #T_08277e50_7985_11e8_83a7_c4da1971a91brow1_col22 {\n",
       "            background-color:  #ffff00;\n",
       "        }    #T_08277e50_7985_11e8_83a7_c4da1971a91brow1_col23 {\n",
       "            background-color:  #ffcb00;\n",
       "        }    #T_08277e50_7985_11e8_83a7_c4da1971a91brow2_col0 {\n",
       "            background-color:  #ffff00;\n",
       "        }    #T_08277e50_7985_11e8_83a7_c4da1971a91brow2_col1 {\n",
       "            background-color:  #ffff00;\n",
       "        }    #T_08277e50_7985_11e8_83a7_c4da1971a91brow2_col2 {\n",
       "            background-color:  #ffd500;\n",
       "        }    #T_08277e50_7985_11e8_83a7_c4da1971a91brow2_col3 {\n",
       "            background-color:  #ffd500;\n",
       "        }    #T_08277e50_7985_11e8_83a7_c4da1971a91brow2_col4 {\n",
       "            background-color:  #ff7f00;\n",
       "        }    #T_08277e50_7985_11e8_83a7_c4da1971a91brow2_col5 {\n",
       "            background-color:  #ff7100;\n",
       "        }    #T_08277e50_7985_11e8_83a7_c4da1971a91brow2_col6 {\n",
       "            background-color:  #ffc400;\n",
       "        }    #T_08277e50_7985_11e8_83a7_c4da1971a91brow2_col7 {\n",
       "            background-color:  #ff7500;\n",
       "        }    #T_08277e50_7985_11e8_83a7_c4da1971a91brow2_col8 {\n",
       "            background-color:  #ff6600;\n",
       "        }    #T_08277e50_7985_11e8_83a7_c4da1971a91brow2_col9 {\n",
       "            background-color:  #ffc100;\n",
       "        }    #T_08277e50_7985_11e8_83a7_c4da1971a91brow2_col10 {\n",
       "            background-color:  #ff7900;\n",
       "        }    #T_08277e50_7985_11e8_83a7_c4da1971a91brow2_col11 {\n",
       "            background-color:  #ff5e00;\n",
       "        }    #T_08277e50_7985_11e8_83a7_c4da1971a91brow2_col12 {\n",
       "            background-color:  #ff9c00;\n",
       "        }    #T_08277e50_7985_11e8_83a7_c4da1971a91brow2_col13 {\n",
       "            background-color:  #ff9c00;\n",
       "        }    #T_08277e50_7985_11e8_83a7_c4da1971a91brow2_col14 {\n",
       "            background-color:  #ff5500;\n",
       "        }    #T_08277e50_7985_11e8_83a7_c4da1971a91brow2_col15 {\n",
       "            background-color:  #ff9900;\n",
       "        }    #T_08277e50_7985_11e8_83a7_c4da1971a91brow2_col16 {\n",
       "            background-color:  #ff3f00;\n",
       "        }    #T_08277e50_7985_11e8_83a7_c4da1971a91brow2_col17 {\n",
       "            background-color:  #ff0000;\n",
       "        }    #T_08277e50_7985_11e8_83a7_c4da1971a91brow2_col18 {\n",
       "            background-color:  #ff2e00;\n",
       "        }    #T_08277e50_7985_11e8_83a7_c4da1971a91brow2_col19 {\n",
       "            background-color:  #ff5500;\n",
       "        }    #T_08277e50_7985_11e8_83a7_c4da1971a91brow2_col20 {\n",
       "            background-color:  #ff5500;\n",
       "        }    #T_08277e50_7985_11e8_83a7_c4da1971a91brow2_col21 {\n",
       "            background-color:  #ff5500;\n",
       "        }    #T_08277e50_7985_11e8_83a7_c4da1971a91brow2_col22 {\n",
       "            background-color:  #ff0000;\n",
       "        }    #T_08277e50_7985_11e8_83a7_c4da1971a91brow2_col23 {\n",
       "            background-color:  #ff8b00;\n",
       "        }    #T_08277e50_7985_11e8_83a7_c4da1971a91brow3_col0 {\n",
       "            background-color:  #ff5500;\n",
       "        }    #T_08277e50_7985_11e8_83a7_c4da1971a91brow3_col1 {\n",
       "            background-color:  #ff7800;\n",
       "        }    #T_08277e50_7985_11e8_83a7_c4da1971a91brow3_col2 {\n",
       "            background-color:  #ffff00;\n",
       "        }    #T_08277e50_7985_11e8_83a7_c4da1971a91brow3_col3 {\n",
       "            background-color:  #ffe300;\n",
       "        }    #T_08277e50_7985_11e8_83a7_c4da1971a91brow3_col4 {\n",
       "            background-color:  #fff100;\n",
       "        }    #T_08277e50_7985_11e8_83a7_c4da1971a91brow3_col5 {\n",
       "            background-color:  #ffff00;\n",
       "        }    #T_08277e50_7985_11e8_83a7_c4da1971a91brow3_col6 {\n",
       "            background-color:  #ffcb00;\n",
       "        }    #T_08277e50_7985_11e8_83a7_c4da1971a91brow3_col7 {\n",
       "            background-color:  #ffff00;\n",
       "        }    #T_08277e50_7985_11e8_83a7_c4da1971a91brow3_col8 {\n",
       "            background-color:  #ffff00;\n",
       "        }    #T_08277e50_7985_11e8_83a7_c4da1971a91brow3_col9 {\n",
       "            background-color:  #ffbc00;\n",
       "        }    #T_08277e50_7985_11e8_83a7_c4da1971a91brow3_col10 {\n",
       "            background-color:  #fff300;\n",
       "        }    #T_08277e50_7985_11e8_83a7_c4da1971a91brow3_col11 {\n",
       "            background-color:  #fffb00;\n",
       "        }    #T_08277e50_7985_11e8_83a7_c4da1971a91brow3_col12 {\n",
       "            background-color:  #ffc700;\n",
       "        }    #T_08277e50_7985_11e8_83a7_c4da1971a91brow3_col13 {\n",
       "            background-color:  #ffff00;\n",
       "        }    #T_08277e50_7985_11e8_83a7_c4da1971a91brow3_col14 {\n",
       "            background-color:  #ffee00;\n",
       "        }    #T_08277e50_7985_11e8_83a7_c4da1971a91brow3_col15 {\n",
       "            background-color:  #ffd700;\n",
       "        }    #T_08277e50_7985_11e8_83a7_c4da1971a91brow3_col16 {\n",
       "            background-color:  #ffff00;\n",
       "        }    #T_08277e50_7985_11e8_83a7_c4da1971a91brow3_col17 {\n",
       "            background-color:  #ffff00;\n",
       "        }    #T_08277e50_7985_11e8_83a7_c4da1971a91brow3_col18 {\n",
       "            background-color:  #ffff00;\n",
       "        }    #T_08277e50_7985_11e8_83a7_c4da1971a91brow3_col19 {\n",
       "            background-color:  #ffaa00;\n",
       "        }    #T_08277e50_7985_11e8_83a7_c4da1971a91brow3_col20 {\n",
       "            background-color:  #ffff00;\n",
       "        }    #T_08277e50_7985_11e8_83a7_c4da1971a91brow3_col21 {\n",
       "            background-color:  #ffaa00;\n",
       "        }    #T_08277e50_7985_11e8_83a7_c4da1971a91brow3_col22 {\n",
       "            background-color:  #ffff00;\n",
       "        }    #T_08277e50_7985_11e8_83a7_c4da1971a91brow3_col23 {\n",
       "            background-color:  #fff400;\n",
       "        }    #T_08277e50_7985_11e8_83a7_c4da1971a91brow4_col0 {\n",
       "            background-color:  #ff0000;\n",
       "        }    #T_08277e50_7985_11e8_83a7_c4da1971a91brow4_col1 {\n",
       "            background-color:  #ff0000;\n",
       "        }    #T_08277e50_7985_11e8_83a7_c4da1971a91brow4_col2 {\n",
       "            background-color:  #ff0000;\n",
       "        }    #T_08277e50_7985_11e8_83a7_c4da1971a91brow4_col3 {\n",
       "            background-color:  #ff0000;\n",
       "        }    #T_08277e50_7985_11e8_83a7_c4da1971a91brow4_col4 {\n",
       "            background-color:  #ff0000;\n",
       "        }    #T_08277e50_7985_11e8_83a7_c4da1971a91brow4_col5 {\n",
       "            background-color:  #ff0000;\n",
       "        }    #T_08277e50_7985_11e8_83a7_c4da1971a91brow4_col6 {\n",
       "            background-color:  #ff0000;\n",
       "        }    #T_08277e50_7985_11e8_83a7_c4da1971a91brow4_col7 {\n",
       "            background-color:  #ff0000;\n",
       "        }    #T_08277e50_7985_11e8_83a7_c4da1971a91brow4_col8 {\n",
       "            background-color:  #ff0000;\n",
       "        }    #T_08277e50_7985_11e8_83a7_c4da1971a91brow4_col9 {\n",
       "            background-color:  #ff0000;\n",
       "        }    #T_08277e50_7985_11e8_83a7_c4da1971a91brow4_col10 {\n",
       "            background-color:  #ff0000;\n",
       "        }    #T_08277e50_7985_11e8_83a7_c4da1971a91brow4_col11 {\n",
       "            background-color:  #ff0000;\n",
       "        }    #T_08277e50_7985_11e8_83a7_c4da1971a91brow4_col12 {\n",
       "            background-color:  #ff0000;\n",
       "        }    #T_08277e50_7985_11e8_83a7_c4da1971a91brow4_col13 {\n",
       "            background-color:  #ff0000;\n",
       "        }    #T_08277e50_7985_11e8_83a7_c4da1971a91brow4_col14 {\n",
       "            background-color:  #ff0000;\n",
       "        }    #T_08277e50_7985_11e8_83a7_c4da1971a91brow4_col15 {\n",
       "            background-color:  #ff0000;\n",
       "        }    #T_08277e50_7985_11e8_83a7_c4da1971a91brow4_col16 {\n",
       "            background-color:  #ff0000;\n",
       "        }    #T_08277e50_7985_11e8_83a7_c4da1971a91brow4_col17 {\n",
       "            background-color:  #ff0000;\n",
       "        }    #T_08277e50_7985_11e8_83a7_c4da1971a91brow4_col18 {\n",
       "            background-color:  #ff0000;\n",
       "        }    #T_08277e50_7985_11e8_83a7_c4da1971a91brow4_col19 {\n",
       "            background-color:  #ff0000;\n",
       "        }    #T_08277e50_7985_11e8_83a7_c4da1971a91brow4_col20 {\n",
       "            background-color:  #ff0000;\n",
       "        }    #T_08277e50_7985_11e8_83a7_c4da1971a91brow4_col21 {\n",
       "            background-color:  #ff0000;\n",
       "        }    #T_08277e50_7985_11e8_83a7_c4da1971a91brow4_col22 {\n",
       "            background-color:  #ff0000;\n",
       "        }    #T_08277e50_7985_11e8_83a7_c4da1971a91brow4_col23 {\n",
       "            background-color:  #ff0000;\n",
       "        }</style>  \n",
       "<table id=\"T_08277e50_7985_11e8_83a7_c4da1971a91b\" > \n",
       "<thead>    <tr> \n",
       "        <th class=\"blank\" ></th> \n",
       "        <th class=\"index_name level0\" >Age_bin</th> \n",
       "        <th class=\"col_heading level0 col0\" colspan=3>1.0</th> \n",
       "        <th class=\"col_heading level0 col3\" colspan=3>2.0</th> \n",
       "        <th class=\"col_heading level0 col6\" colspan=3>3.0</th> \n",
       "        <th class=\"col_heading level0 col9\" colspan=3>4.0</th> \n",
       "        <th class=\"col_heading level0 col12\" colspan=3>5.0</th> \n",
       "        <th class=\"col_heading level0 col15\" colspan=3>6.0</th> \n",
       "        <th class=\"col_heading level0 col18\" colspan=3>7.0</th> \n",
       "        <th class=\"col_heading level0 col21\" colspan=2>8.0</th> \n",
       "        <th class=\"col_heading level0 col23\" >All</th> \n",
       "    </tr>    <tr> \n",
       "        <th class=\"blank\" ></th> \n",
       "        <th class=\"index_name level1\" >Pclass</th> \n",
       "        <th class=\"col_heading level1 col0\" >1</th> \n",
       "        <th class=\"col_heading level1 col1\" >2</th> \n",
       "        <th class=\"col_heading level1 col2\" >3</th> \n",
       "        <th class=\"col_heading level1 col3\" >1</th> \n",
       "        <th class=\"col_heading level1 col4\" >2</th> \n",
       "        <th class=\"col_heading level1 col5\" >3</th> \n",
       "        <th class=\"col_heading level1 col6\" >1</th> \n",
       "        <th class=\"col_heading level1 col7\" >2</th> \n",
       "        <th class=\"col_heading level1 col8\" >3</th> \n",
       "        <th class=\"col_heading level1 col9\" >1</th> \n",
       "        <th class=\"col_heading level1 col10\" >2</th> \n",
       "        <th class=\"col_heading level1 col11\" >3</th> \n",
       "        <th class=\"col_heading level1 col12\" >1</th> \n",
       "        <th class=\"col_heading level1 col13\" >2</th> \n",
       "        <th class=\"col_heading level1 col14\" >3</th> \n",
       "        <th class=\"col_heading level1 col15\" >1</th> \n",
       "        <th class=\"col_heading level1 col16\" >2</th> \n",
       "        <th class=\"col_heading level1 col17\" >3</th> \n",
       "        <th class=\"col_heading level1 col18\" >1</th> \n",
       "        <th class=\"col_heading level1 col19\" >2</th> \n",
       "        <th class=\"col_heading level1 col20\" >3</th> \n",
       "        <th class=\"col_heading level1 col21\" >1</th> \n",
       "        <th class=\"col_heading level1 col22\" >3</th> \n",
       "        <th class=\"col_heading level1 col23\" ></th> \n",
       "    </tr>    <tr> \n",
       "        <th class=\"index_name level0\" >Sex</th> \n",
       "        <th class=\"index_name level1\" >Survived</th> \n",
       "        <th class=\"blank\" ></th> \n",
       "        <th class=\"blank\" ></th> \n",
       "        <th class=\"blank\" ></th> \n",
       "        <th class=\"blank\" ></th> \n",
       "        <th class=\"blank\" ></th> \n",
       "        <th class=\"blank\" ></th> \n",
       "        <th class=\"blank\" ></th> \n",
       "        <th class=\"blank\" ></th> \n",
       "        <th class=\"blank\" ></th> \n",
       "        <th class=\"blank\" ></th> \n",
       "        <th class=\"blank\" ></th> \n",
       "        <th class=\"blank\" ></th> \n",
       "        <th class=\"blank\" ></th> \n",
       "        <th class=\"blank\" ></th> \n",
       "        <th class=\"blank\" ></th> \n",
       "        <th class=\"blank\" ></th> \n",
       "        <th class=\"blank\" ></th> \n",
       "        <th class=\"blank\" ></th> \n",
       "        <th class=\"blank\" ></th> \n",
       "        <th class=\"blank\" ></th> \n",
       "        <th class=\"blank\" ></th> \n",
       "        <th class=\"blank\" ></th> \n",
       "        <th class=\"blank\" ></th> \n",
       "        <th class=\"blank\" ></th> \n",
       "    </tr></thead> \n",
       "<tbody>    <tr> \n",
       "        <th id=\"T_08277e50_7985_11e8_83a7_c4da1971a91blevel0_row0\" class=\"row_heading level0 row0\" rowspan=2>female</th> \n",
       "        <th id=\"T_08277e50_7985_11e8_83a7_c4da1971a91blevel1_row0\" class=\"row_heading level1 row0\" >0</th> \n",
       "        <td id=\"T_08277e50_7985_11e8_83a7_c4da1971a91brow0_col0\" class=\"data row0 col0\" >1</td> \n",
       "        <td id=\"T_08277e50_7985_11e8_83a7_c4da1971a91brow0_col1\" class=\"data row0 col1\" >0</td> \n",
       "        <td id=\"T_08277e50_7985_11e8_83a7_c4da1971a91brow0_col2\" class=\"data row0 col2\" >11</td> \n",
       "        <td id=\"T_08277e50_7985_11e8_83a7_c4da1971a91brow0_col3\" class=\"data row0 col3\" >0</td> \n",
       "        <td id=\"T_08277e50_7985_11e8_83a7_c4da1971a91brow0_col4\" class=\"data row0 col4\" >0</td> \n",
       "        <td id=\"T_08277e50_7985_11e8_83a7_c4da1971a91brow0_col5\" class=\"data row0 col5\" >12</td> \n",
       "        <td id=\"T_08277e50_7985_11e8_83a7_c4da1971a91brow0_col6\" class=\"data row0 col6\" >1</td> \n",
       "        <td id=\"T_08277e50_7985_11e8_83a7_c4da1971a91brow0_col7\" class=\"data row0 col7\" >3</td> \n",
       "        <td id=\"T_08277e50_7985_11e8_83a7_c4da1971a91brow0_col8\" class=\"data row0 col8\" >16</td> \n",
       "        <td id=\"T_08277e50_7985_11e8_83a7_c4da1971a91brow0_col9\" class=\"data row0 col9\" >0</td> \n",
       "        <td id=\"T_08277e50_7985_11e8_83a7_c4da1971a91brow0_col10\" class=\"data row0 col10\" >1</td> \n",
       "        <td id=\"T_08277e50_7985_11e8_83a7_c4da1971a91brow0_col11\" class=\"data row0 col11\" >8</td> \n",
       "        <td id=\"T_08277e50_7985_11e8_83a7_c4da1971a91brow0_col12\" class=\"data row0 col12\" >1</td> \n",
       "        <td id=\"T_08277e50_7985_11e8_83a7_c4da1971a91brow0_col13\" class=\"data row0 col13\" >1</td> \n",
       "        <td id=\"T_08277e50_7985_11e8_83a7_c4da1971a91brow0_col14\" class=\"data row0 col14\" >8</td> \n",
       "        <td id=\"T_08277e50_7985_11e8_83a7_c4da1971a91brow0_col15\" class=\"data row0 col15\" >0</td> \n",
       "        <td id=\"T_08277e50_7985_11e8_83a7_c4da1971a91brow0_col16\" class=\"data row0 col16\" >1</td> \n",
       "        <td id=\"T_08277e50_7985_11e8_83a7_c4da1971a91brow0_col17\" class=\"data row0 col17\" >0</td> \n",
       "        <td id=\"T_08277e50_7985_11e8_83a7_c4da1971a91brow0_col18\" class=\"data row0 col18\" >0</td> \n",
       "        <td id=\"T_08277e50_7985_11e8_83a7_c4da1971a91brow0_col19\" class=\"data row0 col19\" >0</td> \n",
       "        <td id=\"T_08277e50_7985_11e8_83a7_c4da1971a91brow0_col20\" class=\"data row0 col20\" >0</td> \n",
       "        <td id=\"T_08277e50_7985_11e8_83a7_c4da1971a91brow0_col21\" class=\"data row0 col21\" >0</td> \n",
       "        <td id=\"T_08277e50_7985_11e8_83a7_c4da1971a91brow0_col22\" class=\"data row0 col22\" >0</td> \n",
       "        <td id=\"T_08277e50_7985_11e8_83a7_c4da1971a91brow0_col23\" class=\"data row0 col23\" >64</td> \n",
       "    </tr>    <tr> \n",
       "        <th id=\"T_08277e50_7985_11e8_83a7_c4da1971a91blevel1_row1\" class=\"row_heading level1 row1\" >1</th> \n",
       "        <td id=\"T_08277e50_7985_11e8_83a7_c4da1971a91brow1_col0\" class=\"data row1 col0\" >0</td> \n",
       "        <td id=\"T_08277e50_7985_11e8_83a7_c4da1971a91brow1_col1\" class=\"data row1 col1\" >8</td> \n",
       "        <td id=\"T_08277e50_7985_11e8_83a7_c4da1971a91brow1_col2\" class=\"data row1 col2\" >11</td> \n",
       "        <td id=\"T_08277e50_7985_11e8_83a7_c4da1971a91brow1_col3\" class=\"data row1 col3\" >13</td> \n",
       "        <td id=\"T_08277e50_7985_11e8_83a7_c4da1971a91brow1_col4\" class=\"data row1 col4\" >8</td> \n",
       "        <td id=\"T_08277e50_7985_11e8_83a7_c4da1971a91brow1_col5\" class=\"data row1 col5\" >13</td> \n",
       "        <td id=\"T_08277e50_7985_11e8_83a7_c4da1971a91brow1_col6\" class=\"data row1 col6\" >20</td> \n",
       "        <td id=\"T_08277e50_7985_11e8_83a7_c4da1971a91brow1_col7\" class=\"data row1 col7\" >25</td> \n",
       "        <td id=\"T_08277e50_7985_11e8_83a7_c4da1971a91brow1_col8\" class=\"data row1 col8\" >16</td> \n",
       "        <td id=\"T_08277e50_7985_11e8_83a7_c4da1971a91brow1_col9\" class=\"data row1 col9\" >24</td> \n",
       "        <td id=\"T_08277e50_7985_11e8_83a7_c4da1971a91brow1_col10\" class=\"data row1 col10\" >16</td> \n",
       "        <td id=\"T_08277e50_7985_11e8_83a7_c4da1971a91brow1_col11\" class=\"data row1 col11\" >6</td> \n",
       "        <td id=\"T_08277e50_7985_11e8_83a7_c4da1971a91brow1_col12\" class=\"data row1 col12\" >12</td> \n",
       "        <td id=\"T_08277e50_7985_11e8_83a7_c4da1971a91brow1_col13\" class=\"data row1 col13\" >9</td> \n",
       "        <td id=\"T_08277e50_7985_11e8_83a7_c4da1971a91brow1_col14\" class=\"data row1 col14\" >0</td> \n",
       "        <td id=\"T_08277e50_7985_11e8_83a7_c4da1971a91brow1_col15\" class=\"data row1 col15\" >11</td> \n",
       "        <td id=\"T_08277e50_7985_11e8_83a7_c4da1971a91brow1_col16\" class=\"data row1 col16\" >2</td> \n",
       "        <td id=\"T_08277e50_7985_11e8_83a7_c4da1971a91brow1_col17\" class=\"data row1 col17\" >0</td> \n",
       "        <td id=\"T_08277e50_7985_11e8_83a7_c4da1971a91brow1_col18\" class=\"data row1 col18\" >2</td> \n",
       "        <td id=\"T_08277e50_7985_11e8_83a7_c4da1971a91brow1_col19\" class=\"data row1 col19\" >0</td> \n",
       "        <td id=\"T_08277e50_7985_11e8_83a7_c4da1971a91brow1_col20\" class=\"data row1 col20\" >1</td> \n",
       "        <td id=\"T_08277e50_7985_11e8_83a7_c4da1971a91brow1_col21\" class=\"data row1 col21\" >0</td> \n",
       "        <td id=\"T_08277e50_7985_11e8_83a7_c4da1971a91brow1_col22\" class=\"data row1 col22\" >0</td> \n",
       "        <td id=\"T_08277e50_7985_11e8_83a7_c4da1971a91brow1_col23\" class=\"data row1 col23\" >197</td> \n",
       "    </tr>    <tr> \n",
       "        <th id=\"T_08277e50_7985_11e8_83a7_c4da1971a91blevel0_row2\" class=\"row_heading level0 row2\" rowspan=2>male</th> \n",
       "        <th id=\"T_08277e50_7985_11e8_83a7_c4da1971a91blevel1_row2\" class=\"row_heading level1 row2\" >0</th> \n",
       "        <td id=\"T_08277e50_7985_11e8_83a7_c4da1971a91brow2_col0\" class=\"data row2 col0\" >0</td> \n",
       "        <td id=\"T_08277e50_7985_11e8_83a7_c4da1971a91brow2_col1\" class=\"data row2 col1\" >0</td> \n",
       "        <td id=\"T_08277e50_7985_11e8_83a7_c4da1971a91brow2_col2\" class=\"data row2 col2\" >14</td> \n",
       "        <td id=\"T_08277e50_7985_11e8_83a7_c4da1971a91brow2_col3\" class=\"data row2 col3\" >3</td> \n",
       "        <td id=\"T_08277e50_7985_11e8_83a7_c4da1971a91brow2_col4\" class=\"data row2 col4\" >9</td> \n",
       "        <td id=\"T_08277e50_7985_11e8_83a7_c4da1971a91brow2_col5\" class=\"data row2 col5\" >47</td> \n",
       "        <td id=\"T_08277e50_7985_11e8_83a7_c4da1971a91brow2_col6\" class=\"data row2 col6\" >10</td> \n",
       "        <td id=\"T_08277e50_7985_11e8_83a7_c4da1971a91brow2_col7\" class=\"data row2 col7\" >33</td> \n",
       "        <td id=\"T_08277e50_7985_11e8_83a7_c4da1971a91brow2_col8\" class=\"data row2 col8\" >83</td> \n",
       "        <td id=\"T_08277e50_7985_11e8_83a7_c4da1971a91brow2_col9\" class=\"data row2 col9\" >12</td> \n",
       "        <td id=\"T_08277e50_7985_11e8_83a7_c4da1971a91brow2_col10\" class=\"data row2 col10\" >23</td> \n",
       "        <td id=\"T_08277e50_7985_11e8_83a7_c4da1971a91brow2_col11\" class=\"data row2 col11\" >42</td> \n",
       "        <td id=\"T_08277e50_7985_11e8_83a7_c4da1971a91brow2_col12\" class=\"data row2 col12\" >15</td> \n",
       "        <td id=\"T_08277e50_7985_11e8_83a7_c4da1971a91brow2_col13\" class=\"data row2 col13\" >8</td> \n",
       "        <td id=\"T_08277e50_7985_11e8_83a7_c4da1971a91brow2_col14\" class=\"data row2 col14\" >20</td> \n",
       "        <td id=\"T_08277e50_7985_11e8_83a7_c4da1971a91brow2_col15\" class=\"data row2 col15\" >10</td> \n",
       "        <td id=\"T_08277e50_7985_11e8_83a7_c4da1971a91brow2_col16\" class=\"data row2 col16\" >9</td> \n",
       "        <td id=\"T_08277e50_7985_11e8_83a7_c4da1971a91brow2_col17\" class=\"data row2 col17\" >5</td> \n",
       "        <td id=\"T_08277e50_7985_11e8_83a7_c4da1971a91brow2_col18\" class=\"data row2 col18\" >9</td> \n",
       "        <td id=\"T_08277e50_7985_11e8_83a7_c4da1971a91brow2_col19\" class=\"data row2 col19\" >2</td> \n",
       "        <td id=\"T_08277e50_7985_11e8_83a7_c4da1971a91brow2_col20\" class=\"data row2 col20\" >2</td> \n",
       "        <td id=\"T_08277e50_7985_11e8_83a7_c4da1971a91brow2_col21\" class=\"data row2 col21\" >2</td> \n",
       "        <td id=\"T_08277e50_7985_11e8_83a7_c4da1971a91brow2_col22\" class=\"data row2 col22\" >2</td> \n",
       "        <td id=\"T_08277e50_7985_11e8_83a7_c4da1971a91brow2_col23\" class=\"data row2 col23\" >360</td> \n",
       "    </tr>    <tr> \n",
       "        <th id=\"T_08277e50_7985_11e8_83a7_c4da1971a91blevel1_row3\" class=\"row_heading level1 row3\" >1</th> \n",
       "        <td id=\"T_08277e50_7985_11e8_83a7_c4da1971a91brow3_col0\" class=\"data row3 col0\" >2</td> \n",
       "        <td id=\"T_08277e50_7985_11e8_83a7_c4da1971a91brow3_col1\" class=\"data row3 col1\" >9</td> \n",
       "        <td id=\"T_08277e50_7985_11e8_83a7_c4da1971a91brow3_col2\" class=\"data row3 col2\" >8</td> \n",
       "        <td id=\"T_08277e50_7985_11e8_83a7_c4da1971a91brow3_col3\" class=\"data row3 col3\" >2</td> \n",
       "        <td id=\"T_08277e50_7985_11e8_83a7_c4da1971a91brow3_col4\" class=\"data row3 col4\" >1</td> \n",
       "        <td id=\"T_08277e50_7985_11e8_83a7_c4da1971a91brow3_col5\" class=\"data row3 col5\" >7</td> \n",
       "        <td id=\"T_08277e50_7985_11e8_83a7_c4da1971a91brow3_col6\" class=\"data row3 col6\" >9</td> \n",
       "        <td id=\"T_08277e50_7985_11e8_83a7_c4da1971a91brow3_col7\" class=\"data row3 col7\" >0</td> \n",
       "        <td id=\"T_08277e50_7985_11e8_83a7_c4da1971a91brow3_col8\" class=\"data row3 col8\" >14</td> \n",
       "        <td id=\"T_08277e50_7985_11e8_83a7_c4da1971a91brow3_col9\" class=\"data row3 col9\" >13</td> \n",
       "        <td id=\"T_08277e50_7985_11e8_83a7_c4da1971a91brow3_col10\" class=\"data row3 col10\" >3</td> \n",
       "        <td id=\"T_08277e50_7985_11e8_83a7_c4da1971a91brow3_col11\" class=\"data row3 col11\" >7</td> \n",
       "        <td id=\"T_08277e50_7985_11e8_83a7_c4da1971a91brow3_col12\" class=\"data row3 col12\" >9</td> \n",
       "        <td id=\"T_08277e50_7985_11e8_83a7_c4da1971a91brow3_col13\" class=\"data row3 col13\" >1</td> \n",
       "        <td id=\"T_08277e50_7985_11e8_83a7_c4da1971a91brow3_col14\" class=\"data row3 col14\" >2</td> \n",
       "        <td id=\"T_08277e50_7985_11e8_83a7_c4da1971a91brow3_col15\" class=\"data row3 col15\" >4</td> \n",
       "        <td id=\"T_08277e50_7985_11e8_83a7_c4da1971a91brow3_col16\" class=\"data row3 col16\" >0</td> \n",
       "        <td id=\"T_08277e50_7985_11e8_83a7_c4da1971a91brow3_col17\" class=\"data row3 col17\" >0</td> \n",
       "        <td id=\"T_08277e50_7985_11e8_83a7_c4da1971a91brow3_col18\" class=\"data row3 col18\" >0</td> \n",
       "        <td id=\"T_08277e50_7985_11e8_83a7_c4da1971a91brow3_col19\" class=\"data row3 col19\" >1</td> \n",
       "        <td id=\"T_08277e50_7985_11e8_83a7_c4da1971a91brow3_col20\" class=\"data row3 col20\" >0</td> \n",
       "        <td id=\"T_08277e50_7985_11e8_83a7_c4da1971a91brow3_col21\" class=\"data row3 col21\" >1</td> \n",
       "        <td id=\"T_08277e50_7985_11e8_83a7_c4da1971a91brow3_col22\" class=\"data row3 col22\" >0</td> \n",
       "        <td id=\"T_08277e50_7985_11e8_83a7_c4da1971a91brow3_col23\" class=\"data row3 col23\" >93</td> \n",
       "    </tr>    <tr> \n",
       "        <th id=\"T_08277e50_7985_11e8_83a7_c4da1971a91blevel0_row4\" class=\"row_heading level0 row4\" >All</th> \n",
       "        <th id=\"T_08277e50_7985_11e8_83a7_c4da1971a91blevel1_row4\" class=\"row_heading level1 row4\" ></th> \n",
       "        <td id=\"T_08277e50_7985_11e8_83a7_c4da1971a91brow4_col0\" class=\"data row4 col0\" >3</td> \n",
       "        <td id=\"T_08277e50_7985_11e8_83a7_c4da1971a91brow4_col1\" class=\"data row4 col1\" >17</td> \n",
       "        <td id=\"T_08277e50_7985_11e8_83a7_c4da1971a91brow4_col2\" class=\"data row4 col2\" >44</td> \n",
       "        <td id=\"T_08277e50_7985_11e8_83a7_c4da1971a91brow4_col3\" class=\"data row4 col3\" >18</td> \n",
       "        <td id=\"T_08277e50_7985_11e8_83a7_c4da1971a91brow4_col4\" class=\"data row4 col4\" >18</td> \n",
       "        <td id=\"T_08277e50_7985_11e8_83a7_c4da1971a91brow4_col5\" class=\"data row4 col5\" >79</td> \n",
       "        <td id=\"T_08277e50_7985_11e8_83a7_c4da1971a91brow4_col6\" class=\"data row4 col6\" >40</td> \n",
       "        <td id=\"T_08277e50_7985_11e8_83a7_c4da1971a91brow4_col7\" class=\"data row4 col7\" >61</td> \n",
       "        <td id=\"T_08277e50_7985_11e8_83a7_c4da1971a91brow4_col8\" class=\"data row4 col8\" >129</td> \n",
       "        <td id=\"T_08277e50_7985_11e8_83a7_c4da1971a91brow4_col9\" class=\"data row4 col9\" >49</td> \n",
       "        <td id=\"T_08277e50_7985_11e8_83a7_c4da1971a91brow4_col10\" class=\"data row4 col10\" >43</td> \n",
       "        <td id=\"T_08277e50_7985_11e8_83a7_c4da1971a91brow4_col11\" class=\"data row4 col11\" >63</td> \n",
       "        <td id=\"T_08277e50_7985_11e8_83a7_c4da1971a91brow4_col12\" class=\"data row4 col12\" >37</td> \n",
       "        <td id=\"T_08277e50_7985_11e8_83a7_c4da1971a91brow4_col13\" class=\"data row4 col13\" >19</td> \n",
       "        <td id=\"T_08277e50_7985_11e8_83a7_c4da1971a91brow4_col14\" class=\"data row4 col14\" >30</td> \n",
       "        <td id=\"T_08277e50_7985_11e8_83a7_c4da1971a91brow4_col15\" class=\"data row4 col15\" >25</td> \n",
       "        <td id=\"T_08277e50_7985_11e8_83a7_c4da1971a91brow4_col16\" class=\"data row4 col16\" >12</td> \n",
       "        <td id=\"T_08277e50_7985_11e8_83a7_c4da1971a91brow4_col17\" class=\"data row4 col17\" >5</td> \n",
       "        <td id=\"T_08277e50_7985_11e8_83a7_c4da1971a91brow4_col18\" class=\"data row4 col18\" >11</td> \n",
       "        <td id=\"T_08277e50_7985_11e8_83a7_c4da1971a91brow4_col19\" class=\"data row4 col19\" >3</td> \n",
       "        <td id=\"T_08277e50_7985_11e8_83a7_c4da1971a91brow4_col20\" class=\"data row4 col20\" >3</td> \n",
       "        <td id=\"T_08277e50_7985_11e8_83a7_c4da1971a91brow4_col21\" class=\"data row4 col21\" >3</td> \n",
       "        <td id=\"T_08277e50_7985_11e8_83a7_c4da1971a91brow4_col22\" class=\"data row4 col22\" >2</td> \n",
       "        <td id=\"T_08277e50_7985_11e8_83a7_c4da1971a91brow4_col23\" class=\"data row4 col23\" >714</td> \n",
       "    </tr></tbody> \n",
       "</table> "
      ],
      "text/plain": [
       "<pandas.io.formats.style.Styler at 0x29a2054ed30>"
      ]
     },
     "execution_count": 12,
     "metadata": {},
     "output_type": "execute_result"
    }
   ],
   "source": [
    "#Survival frequency based on Age, Sex and Pclass\n",
    "pd.crosstab([df_train.Sex, df_train.Survived], [df_train.Age_bin, df_train.Pclass], margins=True).style.background_gradient(cmap='autumn_r')"
   ]
  },
  {
   "cell_type": "markdown",
   "metadata": {},
   "source": [
    "# MLE"
   ]
  },
  {
   "cell_type": "markdown",
   "metadata": {},
   "source": [
    "Applying MLE with respect to Age of survivors"
   ]
  },
  {
   "cell_type": "code",
   "execution_count": 13,
   "metadata": {},
   "outputs": [],
   "source": [
    "age = df_train[\"Age\"]"
   ]
  },
  {
   "cell_type": "code",
   "execution_count": 14,
   "metadata": {},
   "outputs": [],
   "source": [
    "smean = age.mean()\n",
    "rate = 1. / smean\n",
    "\n",
    "smax = age.max()\n",
    "days = np.linspace(0., smax, 1000)\n",
    "dt = smax / 999.\n",
    "\n",
    "dist_exp = stats.expon.pdf(days, scale=1. / rate)"
   ]
  },
  {
   "cell_type": "code",
   "execution_count": 15,
   "metadata": {},
   "outputs": [
    {
     "name": "stderr",
     "output_type": "stream",
     "text": [
      "C:\\Users\\prith\\Anaconda3\\lib\\site-packages\\numpy\\lib\\function_base.py:780: RuntimeWarning: invalid value encountered in greater_equal\n",
      "  keep = (tmp_a >= first_edge)\n",
      "C:\\Users\\prith\\Anaconda3\\lib\\site-packages\\numpy\\lib\\function_base.py:781: RuntimeWarning: invalid value encountered in less_equal\n",
      "  keep &= (tmp_a <= last_edge)\n"
     ]
    },
    {
     "data": {
      "text/plain": [
       "Text(0,0.5,'Number of survivers')"
      ]
     },
     "execution_count": 15,
     "metadata": {},
     "output_type": "execute_result"
    },
    {
     "data": {
      "image/png": "[encoded data removed]",
      "text/plain": [
       "<Figure size 432x288 with 1 Axes>"
      ]
     },
     "metadata": {},
     "output_type": "display_data"
    }
   ],
   "source": [
    "nbins = 30\n",
    "fig, ax = plt.subplots(1, 1, figsize=(6, 4))\n",
    "ax.hist(age, range=[0,80])\n",
    "ax.plot(days, dist_exp * len(age) * smax / nbins,\n",
    "        '-r', lw=3)\n",
    "ax.set_xlabel(\"Age of survivers\")\n",
    "ax.set_ylabel(\"Number of survivers\")"
   ]
  },
  {
   "cell_type": "markdown",
   "metadata": {},
   "source": [
    "From this we understand that, number of people under the curve survived while those above were unfortunate."
   ]
  },
  {
   "cell_type": "markdown",
   "metadata": {},
   "source": [
    "Conclusion: <br \\>\n",
    "•\tAll people in the 1st bin survived <br \\>\n",
    "•\tAll people in the 2nd bin survived <br \\>\n",
    "•\tThere were high number of casualties from the 3rd, 4th and 5th bin <br \\>\n",
    "•\tThere was very less casualty from the 7th bin <br \\>\n",
    "•\tEveryone from the 8th bin survived <br \\>"
   ]
  },
  {
   "cell_type": "code",
   "execution_count": 16,
   "metadata": {},
   "outputs": [
    {
     "name": "stdout",
     "output_type": "stream",
     "text": [
      "Casualties in 1st bin=  26\n",
      "Casualties in 2nd bin=  71\n",
      "Casualties in 7th bin=  13\n",
      "Casualties in 8th bin=  4\n"
     ]
    }
   ],
   "source": [
    "#Verification\n",
    "print(\"Casualties in 1st bin= \",len(df_train[(df_train[\"Age_bin\"]==1) & (df_train[\"Survived\"]==0)]))\n",
    "print(\"Casualties in 2nd bin= \",len(df_train[(df_train[\"Age_bin\"]==2) & (df_train[\"Survived\"]==0)]))\n",
    "print(\"Casualties in 7th bin= \",len(df_train[(df_train[\"Age_bin\"]==7) & (df_train[\"Survived\"]==0)]))\n",
    "print(\"Casualties in 8th bin= \",len(df_train[(df_train[\"Age_bin\"]==8) & (df_train[\"Survived\"]==0)]))"
   ]
  },
  {
   "cell_type": "code",
   "execution_count": 17,
   "metadata": {},
   "outputs": [
    {
     "data": {
      "image/png": "[encoded data removed]",
      "text/plain": [
       "<Figure size 432x288 with 1 Axes>"
      ]
     },
     "metadata": {},
     "output_type": "display_data"
    }
   ],
   "source": [
    "df_train.Age_bin.value_counts().plot(kind='barh', color='blue', title='Age-wise Frequency')\n",
    "for i, v in enumerate(np.array(df_train.Age_bin.value_counts().tolist())):\n",
    "    plt.text(v+3 , i+0.05 , str(v), color='green', fontweight='bold')"
   ]
  },
  {
   "cell_type": "markdown",
   "metadata": {},
   "source": [
    "This proves that our conclusion from the MLE on Age distribution was incorrect. That is not everyone in the 1st, 2nd and 8th bin survived and there were more casualties in the 7th bin. Hence we prove that Age was not the only factor in determining the survival in the Titanic incident. Next we move on to the Pclass of the survivors."
   ]
  },
  {
   "cell_type": "markdown",
   "metadata": {},
   "source": [
    "Applying MLE with respect to Pclass of survivors"
   ]
  },
  {
   "cell_type": "code",
   "execution_count": 18,
   "metadata": {},
   "outputs": [
    {
     "name": "stdout",
     "output_type": "stream",
     "text": [
      "220.36354995474665 -10.346002242574713 0.05740860090676614\n"
     ]
    }
   ],
   "source": [
    "# fit the data to the gamma distribution:\n",
    "fit_alpha, fit_loc, fit_beta=stats.gamma.fit(df_train['Pclass'])\n",
    "print(fit_alpha, fit_loc, fit_beta)"
   ]
  },
  {
   "cell_type": "code",
   "execution_count": 19,
   "metadata": {},
   "outputs": [
    {
     "name": "stderr",
     "output_type": "stream",
     "text": [
      "C:\\Users\\prith\\Anaconda3\\lib\\site-packages\\matplotlib\\axes\\_axes.py:6462: UserWarning: The 'normed' kwarg is deprecated, and has been replaced by the 'density' kwarg.\n",
      "  warnings.warn(\"The 'normed' kwarg is deprecated, and has been \"\n"
     ]
    },
    {
     "data": {
      "image/png": "[encoded data removed]",
      "text/plain": [
       "<Figure size 864x720 with 1 Axes>"
      ]
     },
     "metadata": {},
     "output_type": "display_data"
    }
   ],
   "source": [
    "# plot the data and its MLE-derived model\n",
    "import numpy as np\n",
    "import matplotlib.pyplot as plt\n",
    "model = stats.gamma(fit_alpha, loc=fit_loc, scale=fit_beta)  \n",
    "plt.figure(figsize=(12,10))\n",
    "_ = plt.hist(df_train['Pclass'], bins=3, normed=True)\n",
    "x = np.linspace(0,20)\n",
    "__ = plt.plot(x, model.pdf(x), color='red')"
   ]
  },
  {
   "cell_type": "markdown",
   "metadata": {},
   "source": [
    "This proves that everyone in the 2 Pclass survived."
   ]
  },
  {
   "cell_type": "code",
   "execution_count": 20,
   "metadata": {
    "scrolled": true
   },
   "outputs": [
    {
     "name": "stdout",
     "output_type": "stream",
     "text": [
      "Total sailoer in 2nd Pclass=  184\n",
      "Casualties in 2nd Pclass=  97\n"
     ]
    }
   ],
   "source": [
    "#Verification\n",
    "print(\"Total sailoer in 2nd Pclass= \",len(df_train[df_train[\"Pclass\"]==2]))\n",
    "print(\"Casualties in 2nd Pclass= \",len(df_train[(df_train[\"Pclass\"]==2) & (df_train[\"Survived\"]==0)]))"
   ]
  },
  {
   "cell_type": "code",
   "execution_count": 21,
   "metadata": {},
   "outputs": [
    {
     "data": {
      "text/plain": [
       "array([491, 216, 184])"
      ]
     },
     "execution_count": 21,
     "metadata": {},
     "output_type": "execute_result"
    }
   ],
   "source": [
    "np.array(df_train.Pclass.value_counts().tolist())"
   ]
  },
  {
   "cell_type": "code",
   "execution_count": 22,
   "metadata": {},
   "outputs": [
    {
     "data": {
      "text/plain": [
       "numpy.ndarray"
      ]
     },
     "execution_count": 22,
     "metadata": {},
     "output_type": "execute_result"
    }
   ],
   "source": [
    "type(df_train.Pclass.unique())"
   ]
  },
  {
   "cell_type": "code",
   "execution_count": 23,
   "metadata": {},
   "outputs": [
    {
     "data": {
      "image/png": "[encoded data removed]",
      "text/plain": [
       "<Figure size 432x288 with 1 Axes>"
      ]
     },
     "metadata": {},
     "output_type": "display_data"
    }
   ],
   "source": [
    "df_train.Pclass.value_counts().plot(kind='barh', color='blue', title='Pclass-wise Frequency')\n",
    "for i, v in enumerate(np.array(df_train.Pclass.value_counts().tolist())):\n",
    "    plt.text(v+3 , i+0.05 , str(v), color='green', fontweight='bold')"
   ]
  },
  {
   "cell_type": "markdown",
   "metadata": {},
   "source": [
    "This proves that around 50% of the sailors in 2nd Pclass could not survive. Next we move to the Sex of the survivors"
   ]
  },
  {
   "cell_type": "markdown",
   "metadata": {},
   "source": [
    "Applying MLE with respect to Sex of survivors"
   ]
  },
  {
   "cell_type": "code",
   "execution_count": 24,
   "metadata": {},
   "outputs": [
    {
     "name": "stdout",
     "output_type": "stream",
     "text": [
      "201.42690971412944 -6.347196864639214 0.034695664130568085\n"
     ]
    }
   ],
   "source": [
    "# fit the data to the gamma distribution:\n",
    "fit_alpha, fit_loc, fit_beta=stats.gamma.fit(df_train['Sex_Bin'])\n",
    "print(fit_alpha, fit_loc, fit_beta)"
   ]
  },
  {
   "cell_type": "code",
   "execution_count": 25,
   "metadata": {},
   "outputs": [
    {
     "name": "stderr",
     "output_type": "stream",
     "text": [
      "C:\\Users\\prith\\Anaconda3\\lib\\site-packages\\matplotlib\\axes\\_axes.py:6462: UserWarning: The 'normed' kwarg is deprecated, and has been replaced by the 'density' kwarg.\n",
      "  warnings.warn(\"The 'normed' kwarg is deprecated, and has been \"\n"
     ]
    },
    {
     "data": {
      "image/png": "[encoded data removed]",
      "text/plain": [
       "<Figure size 864x720 with 1 Axes>"
      ]
     },
     "metadata": {},
     "output_type": "display_data"
    }
   ],
   "source": [
    "# plot the data and its MLE-derived model\n",
    "import numpy as np\n",
    "import matplotlib.pyplot as plt\n",
    "model = stats.gamma(fit_alpha, loc=fit_loc, scale=fit_beta)  \n",
    "plt.figure(figsize=(12,10))\n",
    "_ = plt.hist(df_train['Sex_Bin'], bins=2, normed=True)\n",
    "x = np.linspace(0,10)\n",
    "__ = plt.plot(x, model.pdf(x), color='red')"
   ]
  },
  {
   "cell_type": "markdown",
   "metadata": {},
   "source": [
    "This is a special case, where alpha is very large and hence raising curve is smooth. The location is -6 and hence we see that the curve does not cross the X axis at 0. Also due to very small beta, the curve is short and peaks at 2.5"
   ]
  }
 ],
 "metadata": {
  "kernelspec": {
   "display_name": "Python 3",
   "language": "python",
   "name": "python3"
  },
  "language_info": {
   "codemirror_mode": {
    "name": "ipython",
    "version": 3
   },
   "file_extension": ".py",
   "mimetype": "text/x-python",
   "name": "python",
   "nbconvert_exporter": "python",
   "pygments_lexer": "ipython3",
   "version": "3.6.5"
  }
 },
 "nbformat": 4,
 "nbformat_minor": 2
}
