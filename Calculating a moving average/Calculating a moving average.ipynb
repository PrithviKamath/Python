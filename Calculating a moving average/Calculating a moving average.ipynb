{
 "cells": [
  {
   "cell_type": "code",
   "execution_count": 1,
   "metadata": {},
   "outputs": [
    {
     "name": "stdout",
     "output_type": "stream",
     "text": [
      "4 4 4 9 10 11 12\n",
      "3\n",
      "Mimimum Average 4.0\n",
      "Maximum Average 11.0\n"
     ]
    }
   ],
   "source": [
    "J=list(map(int, input().split()))\n",
    "p=input()\n",
    "J.sort()\n",
    "min_avg=sum(J[:int(p)])/int(p)\n",
    "print(\"Mimimum Average\",min_avg)\n",
    "max_avg=sum(J[-int(p):])/int(p)\n",
    "print(\"Maximum Average\",max_avg)"
   ]
  }
 ],
 "metadata": {
  "kernelspec": {
   "display_name": "Python 3",
   "language": "python",
   "name": "python3"
  },
  "language_info": {
   "codemirror_mode": {
    "name": "ipython",
    "version": 3
   },
   "file_extension": ".py",
   "mimetype": "text/x-python",
   "name": "python",
   "nbconvert_exporter": "python",
   "pygments_lexer": "ipython3",
   "version": "3.6.5"
  }
 },
 "nbformat": 4,
 "nbformat_minor": 2
}
